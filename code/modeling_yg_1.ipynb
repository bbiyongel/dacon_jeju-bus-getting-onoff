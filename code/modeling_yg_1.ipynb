{
 "cells": [
  {
   "cell_type": "markdown",
   "metadata": {},
   "source": [
    "# 개요  "
   ]
  },
  {
   "cell_type": "markdown",
   "metadata": {},
   "source": [
    "이번 포스팅에서는 지난 [feature engineering 포스팅](https://yganalyst.github.io/project/dacon_bus_inout_2/)에 이어서 여러가지 머신러닝 알고리즘을 적용해서, 최종 산출물을 내보기로 한다.  \n",
    "(아직 미완성)  \n",
    "  \n",
    "   \n",
    "   "
   ]
  },
  {
   "cell_type": "markdown",
   "metadata": {},
   "source": [
    "# Modeling  "
   ]
  },
  {
   "cell_type": "code",
   "execution_count": 1,
   "metadata": {},
   "outputs": [],
   "source": [
    "import pandas as pd\n",
    "import warnings\n",
    "warnings.filterwarnings(action='ignore')\n",
    "\n",
    "import numpy as np\n",
    "import os \n",
    "\n",
    "from sklearn.model_selection import StratifiedShuffleSplit\n",
    "from sklearn.model_selection import train_test_split\n",
    "\n",
    "from sklearn.ensemble import RandomForestRegressor\n",
    "from sklearn.metrics import mean_squared_error\n",
    "from sklearn.preprocessing import MinMaxScaler, StandardScaler\n",
    "from sklearn.model_selection import ParameterGrid, StratifiedKFold, KFold\n",
    "\n",
    "from sklearn.tree import DecisionTreeRegressor\n",
    "from sklearn.tree import export_graphviz\n",
    "from graphviz import Source\n",
    "from sklearn.model_selection import GridSearchCV\n",
    "from sklearn.model_selection import cross_val_score\n",
    "import xgboost"
   ]
  },
  {
   "cell_type": "code",
   "execution_count": 2,
   "metadata": {},
   "outputs": [
    {
     "name": "stdout",
     "output_type": "stream",
     "text": [
      "path: D:\\Python\\dacon_bus_inout\\result\n",
      "['regression.dot', 'result_interval.csv', 'result_interval_5_120.csv', 'rf_test_1.csv', 'test_r_set.csv', 'train_r_set.csv', 'xgb_test_1.csv']\n"
     ]
    }
   ],
   "source": [
    "os.chdir(r\"D:\\Python\\dacon_bus_inout\\result\\\\\")\n",
    "print(\"path: \"+ os.getcwd())\n",
    "print(os.listdir())"
   ]
  },
  {
   "cell_type": "code",
   "execution_count": 3,
   "metadata": {},
   "outputs": [
    {
     "name": "stdout",
     "output_type": "stream",
     "text": [
      "train : 415423\n",
      "test : 228170\n"
     ]
    }
   ],
   "source": [
    "# dir_ = \"\"\n",
    "train = pd.read_csv(\"../result/train_r_set.csv\", sep='|', encoding='cp949')\n",
    "test = pd.read_csv(\"../result/test_r_set.csv\", sep='|', encoding='cp949')\n",
    "print(\"train :\", len(train))\n",
    "print(\"test :\", len(test))"
   ]
  },
  {
   "cell_type": "markdown",
   "metadata": {},
   "source": [
    "추가 작업을 시행  "
   ]
  },
  {
   "cell_type": "markdown",
   "metadata": {},
   "source": [
    "- 요일변수 one-hot encoding, 월~일 dummy랑 공휴일만남김  "
   ]
  },
  {
   "cell_type": "code",
   "execution_count": 4,
   "metadata": {},
   "outputs": [],
   "source": [
    "train[['mon','tue','wed','thr','fri','sat','sun']] = pd.get_dummies(train['dayofweek'])\n",
    "test[['mon','tue','wed','thr','fri','sat','sun']] = pd.get_dummies(test['dayofweek'])"
   ]
  },
  {
   "cell_type": "markdown",
   "metadata": {},
   "source": [
    "- 승객 유형 sum  "
   ]
  },
  {
   "cell_type": "code",
   "execution_count": 5,
   "metadata": {},
   "outputs": [],
   "source": [
    "train['미성년자'] = train[['어린이','청소년']].sum(axis=1)\n",
    "train['기타'] = train[['장애일반', '장애동반', '유공일반', '유공동반']].sum(axis=1)\n",
    "test['미성년자'] = test[['어린이','청소년']].sum(axis=1)\n",
    "test['기타'] = test[['장애일반', '장애동반', '유공일반', '유공동반']].sum(axis=1)"
   ]
  },
  {
   "cell_type": "code",
   "execution_count": 6,
   "metadata": {},
   "outputs": [],
   "source": [
    "x_dummy_cols = [\n",
    "                'mon', 'tue', 'wed', 'thr', 'fri', 'sat', 'sun', 'holiday',\n",
    "                #'일반', '어린이', '청소년','경로', '장애일반', '장애동반', '유공일반', '유공동반',\n",
    "                '일반', '미성년자','기타',\n",
    "                'in_out_new', \n",
    "               ]\n",
    "x_cols = [\n",
    "          '6~7_ride', '7~8_ride', '8~9_ride','9~10_ride', '10~11_ride', '11~12_ride',\n",
    "          '6~7_takeoff', '7~8_takeoff','8~9_takeoff', '9~10_takeoff', '10~11_takeoff','11~12_takeoff',\n",
    "          #'ride_1','ride_2', 'takeoff_1', 'takeoff_2',\n",
    "          'travel_time',\n",
    "          #'all_cnt', 'rule_cnt',\n",
    "          #'min_interval_m',\n",
    "          'mean_interval_m',\n",
    "          'loc_distance',\n",
    "          '강수_mn', '강수_ev', '기온_mn', '기온_ev',\n",
    "          '습도_mn', '습도_ev', '지면온도_mn', '지면온도_ev',\n",
    "          '풍속_mn', '풍속_ev'\n",
    "         ]\n",
    "y_col = ['18~20_ride']\n",
    "\n",
    "X_train = train[x_cols + x_dummy_cols]\n",
    "y_train = train[y_col]\n",
    "X_test = test[x_cols + x_dummy_cols]"
   ]
  },
  {
   "cell_type": "markdown",
   "metadata": {},
   "source": [
    "  \n",
    "\n",
    "# 1. Scaling  "
   ]
  },
  {
   "cell_type": "markdown",
   "metadata": {},
   "source": [
    "- dummy변수들은 제외하고 스케일링(독립변수만, 표준화로)진행    "
   ]
  },
  {
   "cell_type": "code",
   "execution_count": 7,
   "metadata": {},
   "outputs": [],
   "source": [
    "def scaler(df, opt='standard'):\n",
    "    if opt=='standard':\n",
    "        scale = StandardScaler()\n",
    "    elif opt=='minmax':\n",
    "        scale = StandardScaler()    \n",
    "    scale.fit(df)\n",
    "    return scale.transform(df)"
   ]
  },
  {
   "cell_type": "code",
   "execution_count": 8,
   "metadata": {},
   "outputs": [],
   "source": [
    "X_train[x_cols] = scaler(X_train[x_cols], opt='standard')\n",
    "X_test[x_cols] = scaler(X_test[x_cols], opt='standard')"
   ]
  },
  {
   "cell_type": "markdown",
   "metadata": {},
   "source": [
    "  \n",
    "  \n",
    "  \n",
    "# 2. Sampling method  "
   ]
  },
  {
   "cell_type": "markdown",
   "metadata": {},
   "source": [
    "**계층적 k겹 샘플링(startified Kfold Sampling)**  \n",
    "> 주로 분류문제에서 불균형 데이터에 대한 샘플링 방법으로, Random sampling보다 효율적  \n",
    "> 타깃 레이블의 전체 대비 비율(분포?)을 유지해주면서 sampling해줌(회귀문제에선 아직 잘 모르겠다.)    "
   ]
  },
  {
   "cell_type": "code",
   "execution_count": 10,
   "metadata": {},
   "outputs": [
    {
     "data": {
      "image/png": "[encoded data removed]",
      "text/plain": [
       "<Figure size 288x144 with 1 Axes>"
      ]
     },
     "metadata": {
      "needs_background": "light"
     },
     "output_type": "display_data"
    },
    {
     "data": {
      "image/png": "[encoded data removed]",
      "text/plain": [
       "<Figure size 288x144 with 1 Axes>"
      ]
     },
     "metadata": {
      "needs_background": "light"
     },
     "output_type": "display_data"
    },
    {
     "data": {
      "image/png": "[encoded data removed]",
      "text/plain": [
       "<Figure size 288x144 with 1 Axes>"
      ]
     },
     "metadata": {
      "needs_background": "light"
     },
     "output_type": "display_data"
    }
   ],
   "source": [
    "skfolds = StratifiedKFold(n_splits=3,shuffle=True, random_state=208)     # 계층적 k겹 표본추출\n",
    "for train_index, test_index in skfolds.split(X_train, y_train):   \n",
    "    y_train.loc[test_index].hist(bins=15, figsize=(4,2))"
   ]
  },
  {
   "cell_type": "markdown",
   "metadata": {},
   "source": [
    "위와 같이 0~1이 대부분인 불균형 데이터에 대하여, 분포를 유지한채 3겹으로 샘플링 해주었다.  \n",
    "단순 랜덤표본 추출보다는 검증단계에서 일반화의 오류에 빠지지 않을 수 있을 것 같다.  "
   ]
  },
  {
   "cell_type": "code",
   "execution_count": 11,
   "metadata": {},
   "outputs": [],
   "source": [
    "kfolds = KFold(n_splits=10, shuffle=True, random_state=208)     # 기본 k겹\n",
    "skfolds = StratifiedKFold(n_splits=10,shuffle=True, random_state=208)     # 계층적 k겹 표본추출"
   ]
  },
  {
   "cell_type": "markdown",
   "metadata": {},
   "source": [
    "\n",
    "  \n",
    "  \n",
    "# 3. Model Selection  "
   ]
  },
  {
   "cell_type": "markdown",
   "metadata": {},
   "source": [
    "이전에 공부했었던 모델을 바탕으로 적용해보려고 했다.  \n",
    "CART알고리즘을 기본으로 하는 [Descision Tree](https://yganalyst.github.io/study/ML_chap5/)와 Tree의 앙상블 모델인 [Random Foreset](https://yganalyst.github.io/study/ML_chap6-3/), [xgboost](https://yganalyst.github.io/study/ML_chap6-4/#3-xgbosst)를 활용했다.  \n",
    "자세한 내용은 이전에 포스팅했었던 위의 링크를 타고 가면 된다.  "
   ]
  },
  {
   "cell_type": "markdown",
   "metadata": {},
   "source": [
    "## 3-1. Tree  "
   ]
  },
  {
   "cell_type": "markdown",
   "metadata": {},
   "source": [
    "**Parameter**  \n",
    "\n",
    "- `max_depth` : default는 None으로 최대 깊이까지 학습(과대적합 가능성이 크므로 제한 주기)  \n",
    "- `min_samples_split` : 분할되기 위해 노드가 가져야하는 최소 샘플 수  \n",
    "- `min_samples_leaf` : 리프 노드가 가져야할 최소 샘플 수  \n",
    "- `min_weight_fraction_leaf` : min_samples_leaf와 같지만 가중치가 부여된 전체 샘플 수에서의 비율  \n",
    "- `max_leaf_nodes` : 리프 노드의 최대 수  \n",
    "- `max_features` : 각 노드에서 분할에 사용할 변수의 최대 수  "
   ]
  },
  {
   "cell_type": "markdown",
   "metadata": {},
   "source": [
    "(예시)  "
   ]
  },
  {
   "cell_type": "code",
   "execution_count": 11,
   "metadata": {},
   "outputs": [
    {
     "data": {
      "text/plain": [
       "DecisionTreeRegressor(criterion='mse', max_depth=3, max_features=None,\n",
       "                      max_leaf_nodes=None, min_impurity_decrease=0.0,\n",
       "                      min_impurity_split=None, min_samples_leaf=1,\n",
       "                      min_samples_split=2, min_weight_fraction_leaf=0.0,\n",
       "                      presort=False, random_state=208, splitter='best')"
      ]
     },
     "execution_count": 11,
     "metadata": {},
     "output_type": "execute_result"
    }
   ],
   "source": [
    "tree_reg = DecisionTreeRegressor(max_depth = 3,\n",
    "                                random_state=208)\n",
    "tree_reg.fit(X_train,y_train)"
   ]
  },
  {
   "cell_type": "code",
   "execution_count": 12,
   "metadata": {},
   "outputs": [
    {
     "data": {
      "image/svg+xml": [
       "<?xml version=\"1.0\" encoding=\"UTF-8\" standalone=\"no\"?>\r\n",
       "<!DOCTYPE svg PUBLIC \"-//W3C//DTD SVG 1.1//EN\"\r\n",
       " \"http://www.w3.org/Graphics/SVG/1.1/DTD/svg11.dtd\">\r\n",
       "<!-- Generated by graphviz version 2.38.0 (20140413.2041)\r\n",
       " -->\r\n",
       "<!-- Title: Tree Pages: 1 -->\r\n",
       "<svg width=\"1123pt\" height=\"373pt\"\r\n",
       " viewBox=\"0.00 0.00 1123.00 373.00\" xmlns=\"http://www.w3.org/2000/svg\" xmlns:xlink=\"http://www.w3.org/1999/xlink\">\r\n",
       "<g id=\"graph0\" class=\"graph\" transform=\"scale(1 1) rotate(0) translate(4 369)\">\r\n",
       "<title>Tree</title>\r\n",
       "<polygon fill=\"white\" stroke=\"none\" points=\"-4,4 -4,-369 1119,-369 1119,4 -4,4\"/>\r\n",
       "<!-- 0 -->\r\n",
       "<g id=\"node1\" class=\"node\"><title>0</title>\r\n",
       "<path fill=\"#fffefd\" stroke=\"black\" d=\"M630,-365C630,-365 518,-365 518,-365 512,-365 506,-359 506,-353 506,-353 506,-309 506,-309 506,-303 512,-297 518,-297 518,-297 630,-297 630,-297 636,-297 642,-303 642,-309 642,-309 642,-353 642,-353 642,-359 636,-365 630,-365\"/>\r\n",
       "<text text-anchor=\"middle\" x=\"574\" y=\"-349.8\" font-family=\"Helvetica,sans-Serif\" font-size=\"14.00\">일반 &lt;= 33.5</text>\r\n",
       "<text text-anchor=\"middle\" x=\"574\" y=\"-334.8\" font-family=\"Helvetica,sans-Serif\" font-size=\"14.00\">mse = 22.3</text>\r\n",
       "<text text-anchor=\"middle\" x=\"574\" y=\"-319.8\" font-family=\"Helvetica,sans-Serif\" font-size=\"14.00\">samples = 415423</text>\r\n",
       "<text text-anchor=\"middle\" x=\"574\" y=\"-304.8\" font-family=\"Helvetica,sans-Serif\" font-size=\"14.00\">value = 1.242</text>\r\n",
       "</g>\r\n",
       "<!-- 1 -->\r\n",
       "<g id=\"node2\" class=\"node\"><title>1</title>\r\n",
       "<path fill=\"#fffefe\" stroke=\"black\" d=\"M522,-261C522,-261 410,-261 410,-261 404,-261 398,-255 398,-249 398,-249 398,-205 398,-205 398,-199 404,-193 410,-193 410,-193 522,-193 522,-193 528,-193 534,-199 534,-205 534,-205 534,-249 534,-249 534,-255 528,-261 522,-261\"/>\r\n",
       "<text text-anchor=\"middle\" x=\"466\" y=\"-245.8\" font-family=\"Helvetica,sans-Serif\" font-size=\"14.00\">일반 &lt;= 8.75</text>\r\n",
       "<text text-anchor=\"middle\" x=\"466\" y=\"-230.8\" font-family=\"Helvetica,sans-Serif\" font-size=\"14.00\">mse = 11.13</text>\r\n",
       "<text text-anchor=\"middle\" x=\"466\" y=\"-215.8\" font-family=\"Helvetica,sans-Serif\" font-size=\"14.00\">samples = 412963</text>\r\n",
       "<text text-anchor=\"middle\" x=\"466\" y=\"-200.8\" font-family=\"Helvetica,sans-Serif\" font-size=\"14.00\">value = 1.068</text>\r\n",
       "</g>\r\n",
       "<!-- 0&#45;&gt;1 -->\r\n",
       "<g id=\"edge1\" class=\"edge\"><title>0&#45;&gt;1</title>\r\n",
       "<path fill=\"none\" stroke=\"black\" d=\"M538.935,-296.884C529.316,-287.798 518.778,-277.845 508.777,-268.4\"/>\r\n",
       "<polygon fill=\"black\" stroke=\"black\" points=\"510.931,-265.621 501.258,-261.299 506.125,-270.71 510.931,-265.621\"/>\r\n",
       "<text text-anchor=\"middle\" x=\"501.972\" y=\"-282.589\" font-family=\"Helvetica,sans-Serif\" font-size=\"14.00\">True</text>\r\n",
       "</g>\r\n",
       "<!-- 8 -->\r\n",
       "<g id=\"node9\" class=\"node\"><title>8</title>\r\n",
       "<path fill=\"#f6d3ba\" stroke=\"black\" d=\"M746.5,-261C746.5,-261 619.5,-261 619.5,-261 613.5,-261 607.5,-255 607.5,-249 607.5,-249 607.5,-205 607.5,-205 607.5,-199 613.5,-193 619.5,-193 619.5,-193 746.5,-193 746.5,-193 752.5,-193 758.5,-199 758.5,-205 758.5,-205 758.5,-249 758.5,-249 758.5,-255 752.5,-261 746.5,-261\"/>\r\n",
       "<text text-anchor=\"middle\" x=\"683\" y=\"-245.8\" font-family=\"Helvetica,sans-Serif\" font-size=\"14.00\">11~12_ride &lt;= 7.683</text>\r\n",
       "<text text-anchor=\"middle\" x=\"683\" y=\"-230.8\" font-family=\"Helvetica,sans-Serif\" font-size=\"14.00\">mse = 1035.007</text>\r\n",
       "<text text-anchor=\"middle\" x=\"683\" y=\"-215.8\" font-family=\"Helvetica,sans-Serif\" font-size=\"14.00\">samples = 2460</text>\r\n",
       "<text text-anchor=\"middle\" x=\"683\" y=\"-200.8\" font-family=\"Helvetica,sans-Serif\" font-size=\"14.00\">value = 30.522</text>\r\n",
       "</g>\r\n",
       "<!-- 0&#45;&gt;8 -->\r\n",
       "<g id=\"edge8\" class=\"edge\"><title>0&#45;&gt;8</title>\r\n",
       "<path fill=\"none\" stroke=\"black\" d=\"M609.389,-296.884C619.098,-287.798 629.734,-277.845 639.827,-268.4\"/>\r\n",
       "<polygon fill=\"black\" stroke=\"black\" points=\"642.505,-270.688 647.415,-261.299 637.722,-265.577 642.505,-270.688\"/>\r\n",
       "<text text-anchor=\"middle\" x=\"646.586\" y=\"-282.586\" font-family=\"Helvetica,sans-Serif\" font-size=\"14.00\">False</text>\r\n",
       "</g>\r\n",
       "<!-- 2 -->\r\n",
       "<g id=\"node3\" class=\"node\"><title>2</title>\r\n",
       "<path fill=\"#fffffe\" stroke=\"black\" d=\"M274,-157C274,-157 162,-157 162,-157 156,-157 150,-151 150,-145 150,-145 150,-101 150,-101 150,-95 156,-89 162,-89 162,-89 274,-89 274,-89 280,-89 286,-95 286,-101 286,-101 286,-145 286,-145 286,-151 280,-157 274,-157\"/>\r\n",
       "<text text-anchor=\"middle\" x=\"218\" y=\"-141.8\" font-family=\"Helvetica,sans-Serif\" font-size=\"14.00\">일반 &lt;= 3.75</text>\r\n",
       "<text text-anchor=\"middle\" x=\"218\" y=\"-126.8\" font-family=\"Helvetica,sans-Serif\" font-size=\"14.00\">mse = 4.997</text>\r\n",
       "<text text-anchor=\"middle\" x=\"218\" y=\"-111.8\" font-family=\"Helvetica,sans-Serif\" font-size=\"14.00\">samples = 390826</text>\r\n",
       "<text text-anchor=\"middle\" x=\"218\" y=\"-96.8\" font-family=\"Helvetica,sans-Serif\" font-size=\"14.00\">value = 0.737</text>\r\n",
       "</g>\r\n",
       "<!-- 1&#45;&gt;2 -->\r\n",
       "<g id=\"edge2\" class=\"edge\"><title>1&#45;&gt;2</title>\r\n",
       "<path fill=\"none\" stroke=\"black\" d=\"M397.905,-197.993C366.321,-185.003 328.618,-169.496 295.905,-156.041\"/>\r\n",
       "<polygon fill=\"black\" stroke=\"black\" points=\"296.953,-152.688 286.374,-152.121 294.291,-159.162 296.953,-152.688\"/>\r\n",
       "</g>\r\n",
       "<!-- 5 -->\r\n",
       "<g id=\"node6\" class=\"node\"><title>5</title>\r\n",
       "<path fill=\"#fdf6f0\" stroke=\"black\" d=\"M529.5,-157C529.5,-157 402.5,-157 402.5,-157 396.5,-157 390.5,-151 390.5,-145 390.5,-145 390.5,-101 390.5,-101 390.5,-95 396.5,-89 402.5,-89 402.5,-89 529.5,-89 529.5,-89 535.5,-89 541.5,-95 541.5,-101 541.5,-101 541.5,-145 541.5,-145 541.5,-151 535.5,-157 529.5,-157\"/>\r\n",
       "<text text-anchor=\"middle\" x=\"466\" y=\"-141.8\" font-family=\"Helvetica,sans-Serif\" font-size=\"14.00\">11~12_ride &lt;= 2.534</text>\r\n",
       "<text text-anchor=\"middle\" x=\"466\" y=\"-126.8\" font-family=\"Helvetica,sans-Serif\" font-size=\"14.00\">mse = 83.313</text>\r\n",
       "<text text-anchor=\"middle\" x=\"466\" y=\"-111.8\" font-family=\"Helvetica,sans-Serif\" font-size=\"14.00\">samples = 22137</text>\r\n",
       "<text text-anchor=\"middle\" x=\"466\" y=\"-96.8\" font-family=\"Helvetica,sans-Serif\" font-size=\"14.00\">value = 6.912</text>\r\n",
       "</g>\r\n",
       "<!-- 1&#45;&gt;5 -->\r\n",
       "<g id=\"edge5\" class=\"edge\"><title>1&#45;&gt;5</title>\r\n",
       "<path fill=\"none\" stroke=\"black\" d=\"M466,-192.884C466,-184.778 466,-175.982 466,-167.472\"/>\r\n",
       "<polygon fill=\"black\" stroke=\"black\" points=\"469.5,-167.299 466,-157.299 462.5,-167.299 469.5,-167.299\"/>\r\n",
       "</g>\r\n",
       "<!-- 3 -->\r\n",
       "<g id=\"node4\" class=\"node\"><title>3</title>\r\n",
       "<path fill=\"#ffffff\" stroke=\"black\" d=\"M124,-53C124,-53 12,-53 12,-53 6,-53 0,-47 0,-41 0,-41 0,-12 0,-12 0,-6 6,-0 12,-0 12,-0 124,-0 124,-0 130,-0 136,-6 136,-12 136,-12 136,-41 136,-41 136,-47 130,-53 124,-53\"/>\r\n",
       "<text text-anchor=\"middle\" x=\"68\" y=\"-37.8\" font-family=\"Helvetica,sans-Serif\" font-size=\"14.00\">mse = 2.859</text>\r\n",
       "<text text-anchor=\"middle\" x=\"68\" y=\"-22.8\" font-family=\"Helvetica,sans-Serif\" font-size=\"14.00\">samples = 341056</text>\r\n",
       "<text text-anchor=\"middle\" x=\"68\" y=\"-7.8\" font-family=\"Helvetica,sans-Serif\" font-size=\"14.00\">value = 0.51</text>\r\n",
       "</g>\r\n",
       "<!-- 2&#45;&gt;3 -->\r\n",
       "<g id=\"edge3\" class=\"edge\"><title>2&#45;&gt;3</title>\r\n",
       "<path fill=\"none\" stroke=\"black\" d=\"M165.537,-88.9485C150,-79.1601 133.041,-68.4756 117.685,-58.8015\"/>\r\n",
       "<polygon fill=\"black\" stroke=\"black\" points=\"119.178,-55.6058 108.852,-53.2367 115.447,-61.5285 119.178,-55.6058\"/>\r\n",
       "</g>\r\n",
       "<!-- 4 -->\r\n",
       "<g id=\"node5\" class=\"node\"><title>4</title>\r\n",
       "<path fill=\"#fefcfb\" stroke=\"black\" d=\"M270,-53C270,-53 166,-53 166,-53 160,-53 154,-47 154,-41 154,-41 154,-12 154,-12 154,-6 160,-0 166,-0 166,-0 270,-0 270,-0 276,-0 282,-6 282,-12 282,-12 282,-41 282,-41 282,-47 276,-53 270,-53\"/>\r\n",
       "<text text-anchor=\"middle\" x=\"218\" y=\"-37.8\" font-family=\"Helvetica,sans-Serif\" font-size=\"14.00\">mse = 16.887</text>\r\n",
       "<text text-anchor=\"middle\" x=\"218\" y=\"-22.8\" font-family=\"Helvetica,sans-Serif\" font-size=\"14.00\">samples = 49770</text>\r\n",
       "<text text-anchor=\"middle\" x=\"218\" y=\"-7.8\" font-family=\"Helvetica,sans-Serif\" font-size=\"14.00\">value = 2.288</text>\r\n",
       "</g>\r\n",
       "<!-- 2&#45;&gt;4 -->\r\n",
       "<g id=\"edge4\" class=\"edge\"><title>2&#45;&gt;4</title>\r\n",
       "<path fill=\"none\" stroke=\"black\" d=\"M218,-88.9485C218,-80.7153 218,-71.848 218,-63.4814\"/>\r\n",
       "<polygon fill=\"black\" stroke=\"black\" points=\"221.5,-63.2367 218,-53.2367 214.5,-63.2367 221.5,-63.2367\"/>\r\n",
       "</g>\r\n",
       "<!-- 6 -->\r\n",
       "<g id=\"node7\" class=\"node\"><title>6</title>\r\n",
       "<path fill=\"#fdf7f3\" stroke=\"black\" d=\"M416,-53C416,-53 312,-53 312,-53 306,-53 300,-47 300,-41 300,-41 300,-12 300,-12 300,-6 306,-0 312,-0 312,-0 416,-0 416,-0 422,-0 428,-6 428,-12 428,-12 428,-41 428,-41 428,-47 422,-53 416,-53\"/>\r\n",
       "<text text-anchor=\"middle\" x=\"364\" y=\"-37.8\" font-family=\"Helvetica,sans-Serif\" font-size=\"14.00\">mse = 59.195</text>\r\n",
       "<text text-anchor=\"middle\" x=\"364\" y=\"-22.8\" font-family=\"Helvetica,sans-Serif\" font-size=\"14.00\">samples = 17734</text>\r\n",
       "<text text-anchor=\"middle\" x=\"364\" y=\"-7.8\" font-family=\"Helvetica,sans-Serif\" font-size=\"14.00\">value = 5.712</text>\r\n",
       "</g>\r\n",
       "<!-- 5&#45;&gt;6 -->\r\n",
       "<g id=\"edge6\" class=\"edge\"><title>5&#45;&gt;6</title>\r\n",
       "<path fill=\"none\" stroke=\"black\" d=\"M430.325,-88.9485C420.254,-79.6175 409.303,-69.4722 399.256,-60.1641\"/>\r\n",
       "<polygon fill=\"black\" stroke=\"black\" points=\"401.494,-57.4655 391.779,-53.2367 396.736,-62.6004 401.494,-57.4655\"/>\r\n",
       "</g>\r\n",
       "<!-- 7 -->\r\n",
       "<g id=\"node8\" class=\"node\"><title>7</title>\r\n",
       "<path fill=\"#fcefe5\" stroke=\"black\" d=\"M553.5,-53C553.5,-53 458.5,-53 458.5,-53 452.5,-53 446.5,-47 446.5,-41 446.5,-41 446.5,-12 446.5,-12 446.5,-6 452.5,-0 458.5,-0 458.5,-0 553.5,-0 553.5,-0 559.5,-0 565.5,-6 565.5,-12 565.5,-12 565.5,-41 565.5,-41 565.5,-47 559.5,-53 553.5,-53\"/>\r\n",
       "<text text-anchor=\"middle\" x=\"506\" y=\"-37.8\" font-family=\"Helvetica,sans-Serif\" font-size=\"14.00\">mse = 151.256</text>\r\n",
       "<text text-anchor=\"middle\" x=\"506\" y=\"-22.8\" font-family=\"Helvetica,sans-Serif\" font-size=\"14.00\">samples = 4403</text>\r\n",
       "<text text-anchor=\"middle\" x=\"506\" y=\"-7.8\" font-family=\"Helvetica,sans-Serif\" font-size=\"14.00\">value = 11.749</text>\r\n",
       "</g>\r\n",
       "<!-- 5&#45;&gt;7 -->\r\n",
       "<g id=\"edge7\" class=\"edge\"><title>5&#45;&gt;7</title>\r\n",
       "<path fill=\"none\" stroke=\"black\" d=\"M479.99,-88.9485C483.591,-80.4408 487.479,-71.2562 491.123,-62.6464\"/>\r\n",
       "<polygon fill=\"black\" stroke=\"black\" points=\"494.431,-63.81 495.106,-53.2367 487.985,-61.0814 494.431,-63.81\"/>\r\n",
       "</g>\r\n",
       "<!-- 9 -->\r\n",
       "<g id=\"node10\" class=\"node\"><title>9</title>\r\n",
       "<path fill=\"#f9e1cf\" stroke=\"black\" d=\"M748,-157C748,-157 618,-157 618,-157 612,-157 606,-151 606,-145 606,-145 606,-101 606,-101 606,-95 612,-89 618,-89 618,-89 748,-89 748,-89 754,-89 760,-95 760,-101 760,-101 760,-145 760,-145 760,-151 754,-157 748,-157\"/>\r\n",
       "<text text-anchor=\"middle\" x=\"683\" y=\"-141.8\" font-family=\"Helvetica,sans-Serif\" font-size=\"14.00\">6~7_takeoff &lt;= 9.013</text>\r\n",
       "<text text-anchor=\"middle\" x=\"683\" y=\"-126.8\" font-family=\"Helvetica,sans-Serif\" font-size=\"14.00\">mse = 530.831</text>\r\n",
       "<text text-anchor=\"middle\" x=\"683\" y=\"-111.8\" font-family=\"Helvetica,sans-Serif\" font-size=\"14.00\">samples = 1678</text>\r\n",
       "<text text-anchor=\"middle\" x=\"683\" y=\"-96.8\" font-family=\"Helvetica,sans-Serif\" font-size=\"14.00\">value = 21.424</text>\r\n",
       "</g>\r\n",
       "<!-- 8&#45;&gt;9 -->\r\n",
       "<g id=\"edge9\" class=\"edge\"><title>8&#45;&gt;9</title>\r\n",
       "<path fill=\"none\" stroke=\"black\" d=\"M683,-192.884C683,-184.778 683,-175.982 683,-167.472\"/>\r\n",
       "<polygon fill=\"black\" stroke=\"black\" points=\"686.5,-167.299 683,-157.299 679.5,-167.299 686.5,-167.299\"/>\r\n",
       "</g>\r\n",
       "<!-- 12 -->\r\n",
       "<g id=\"node13\" class=\"node\"><title>12</title>\r\n",
       "<path fill=\"#f0b78e\" stroke=\"black\" d=\"M987,-157C987,-157 849,-157 849,-157 843,-157 837,-151 837,-145 837,-145 837,-101 837,-101 837,-95 843,-89 849,-89 849,-89 987,-89 987,-89 993,-89 999,-95 999,-101 999,-101 999,-145 999,-145 999,-151 993,-157 987,-157\"/>\r\n",
       "<text text-anchor=\"middle\" x=\"918\" y=\"-141.8\" font-family=\"Helvetica,sans-Serif\" font-size=\"14.00\">loc_distance &lt;= &#45;0.125</text>\r\n",
       "<text text-anchor=\"middle\" x=\"918\" y=\"-126.8\" font-family=\"Helvetica,sans-Serif\" font-size=\"14.00\">mse = 1558.219</text>\r\n",
       "<text text-anchor=\"middle\" x=\"918\" y=\"-111.8\" font-family=\"Helvetica,sans-Serif\" font-size=\"14.00\">samples = 782</text>\r\n",
       "<text text-anchor=\"middle\" x=\"918\" y=\"-96.8\" font-family=\"Helvetica,sans-Serif\" font-size=\"14.00\">value = 50.042</text>\r\n",
       "</g>\r\n",
       "<!-- 8&#45;&gt;12 -->\r\n",
       "<g id=\"edge12\" class=\"edge\"><title>8&#45;&gt;12</title>\r\n",
       "<path fill=\"none\" stroke=\"black\" d=\"M758.649,-193.165C782.103,-182.985 808.115,-171.695 832.206,-161.238\"/>\r\n",
       "<polygon fill=\"black\" stroke=\"black\" points=\"833.907,-164.315 841.687,-157.123 831.12,-157.894 833.907,-164.315\"/>\r\n",
       "</g>\r\n",
       "<!-- 10 -->\r\n",
       "<g id=\"node11\" class=\"node\"><title>10</title>\r\n",
       "<path fill=\"#f9e3d2\" stroke=\"black\" d=\"M690.5,-53C690.5,-53 595.5,-53 595.5,-53 589.5,-53 583.5,-47 583.5,-41 583.5,-41 583.5,-12 583.5,-12 583.5,-6 589.5,-0 595.5,-0 595.5,-0 690.5,-0 690.5,-0 696.5,-0 702.5,-6 702.5,-12 702.5,-12 702.5,-41 702.5,-41 702.5,-47 696.5,-53 690.5,-53\"/>\r\n",
       "<text text-anchor=\"middle\" x=\"643\" y=\"-37.8\" font-family=\"Helvetica,sans-Serif\" font-size=\"14.00\">mse = 416.056</text>\r\n",
       "<text text-anchor=\"middle\" x=\"643\" y=\"-22.8\" font-family=\"Helvetica,sans-Serif\" font-size=\"14.00\">samples = 1630</text>\r\n",
       "<text text-anchor=\"middle\" x=\"643\" y=\"-7.8\" font-family=\"Helvetica,sans-Serif\" font-size=\"14.00\">value = 20.065</text>\r\n",
       "</g>\r\n",
       "<!-- 9&#45;&gt;10 -->\r\n",
       "<g id=\"edge10\" class=\"edge\"><title>9&#45;&gt;10</title>\r\n",
       "<path fill=\"none\" stroke=\"black\" d=\"M669.01,-88.9485C665.409,-80.4408 661.521,-71.2562 657.877,-62.6464\"/>\r\n",
       "<polygon fill=\"black\" stroke=\"black\" points=\"661.015,-61.0814 653.894,-53.2367 654.569,-63.81 661.015,-61.0814\"/>\r\n",
       "</g>\r\n",
       "<!-- 11 -->\r\n",
       "<g id=\"node12\" class=\"node\"><title>11</title>\r\n",
       "<path fill=\"#eb9e66\" stroke=\"black\" d=\"M831,-53C831,-53 733,-53 733,-53 727,-53 721,-47 721,-41 721,-41 721,-12 721,-12 721,-6 727,-0 733,-0 733,-0 831,-0 831,-0 837,-0 843,-6 843,-12 843,-12 843,-41 843,-41 843,-47 837,-53 831,-53\"/>\r\n",
       "<text text-anchor=\"middle\" x=\"782\" y=\"-37.8\" font-family=\"Helvetica,sans-Serif\" font-size=\"14.00\">mse = 2234.993</text>\r\n",
       "<text text-anchor=\"middle\" x=\"782\" y=\"-22.8\" font-family=\"Helvetica,sans-Serif\" font-size=\"14.00\">samples = 48</text>\r\n",
       "<text text-anchor=\"middle\" x=\"782\" y=\"-7.8\" font-family=\"Helvetica,sans-Serif\" font-size=\"14.00\">value = 67.583</text>\r\n",
       "</g>\r\n",
       "<!-- 9&#45;&gt;11 -->\r\n",
       "<g id=\"edge11\" class=\"edge\"><title>9&#45;&gt;11</title>\r\n",
       "<path fill=\"none\" stroke=\"black\" d=\"M717.625,-88.9485C727.401,-79.6175 738.029,-69.4722 747.78,-60.1641\"/>\r\n",
       "<polygon fill=\"black\" stroke=\"black\" points=\"750.221,-62.6732 755.038,-53.2367 745.387,-57.6097 750.221,-62.6732\"/>\r\n",
       "</g>\r\n",
       "<!-- 13 -->\r\n",
       "<g id=\"node14\" class=\"node\"><title>13</title>\r\n",
       "<path fill=\"#f2bf9b\" stroke=\"black\" d=\"M962.5,-53C962.5,-53 873.5,-53 873.5,-53 867.5,-53 861.5,-47 861.5,-41 861.5,-41 861.5,-12 861.5,-12 861.5,-6 867.5,-0 873.5,-0 873.5,-0 962.5,-0 962.5,-0 968.5,-0 974.5,-6 974.5,-12 974.5,-12 974.5,-41 974.5,-41 974.5,-47 968.5,-53 962.5,-53\"/>\r\n",
       "<text text-anchor=\"middle\" x=\"918\" y=\"-37.8\" font-family=\"Helvetica,sans-Serif\" font-size=\"14.00\">mse = 876.898</text>\r\n",
       "<text text-anchor=\"middle\" x=\"918\" y=\"-22.8\" font-family=\"Helvetica,sans-Serif\" font-size=\"14.00\">samples = 679</text>\r\n",
       "<text text-anchor=\"middle\" x=\"918\" y=\"-7.8\" font-family=\"Helvetica,sans-Serif\" font-size=\"14.00\">value = 44.405</text>\r\n",
       "</g>\r\n",
       "<!-- 12&#45;&gt;13 -->\r\n",
       "<g id=\"edge13\" class=\"edge\"><title>12&#45;&gt;13</title>\r\n",
       "<path fill=\"none\" stroke=\"black\" d=\"M918,-88.9485C918,-80.7153 918,-71.848 918,-63.4814\"/>\r\n",
       "<polygon fill=\"black\" stroke=\"black\" points=\"921.5,-63.2367 918,-53.2367 914.5,-63.2367 921.5,-63.2367\"/>\r\n",
       "</g>\r\n",
       "<!-- 14 -->\r\n",
       "<g id=\"node15\" class=\"node\"><title>14</title>\r\n",
       "<path fill=\"#e58139\" stroke=\"black\" d=\"M1103,-53C1103,-53 1005,-53 1005,-53 999,-53 993,-47 993,-41 993,-41 993,-12 993,-12 993,-6 999,-0 1005,-0 1005,-0 1103,-0 1103,-0 1109,-0 1115,-6 1115,-12 1115,-12 1115,-41 1115,-41 1115,-47 1109,-53 1103,-53\"/>\r\n",
       "<text text-anchor=\"middle\" x=\"1054\" y=\"-37.8\" font-family=\"Helvetica,sans-Serif\" font-size=\"14.00\">mse = 4459.172</text>\r\n",
       "<text text-anchor=\"middle\" x=\"1054\" y=\"-22.8\" font-family=\"Helvetica,sans-Serif\" font-size=\"14.00\">samples = 103</text>\r\n",
       "<text text-anchor=\"middle\" x=\"1054\" y=\"-7.8\" font-family=\"Helvetica,sans-Serif\" font-size=\"14.00\">value = 87.204</text>\r\n",
       "</g>\r\n",
       "<!-- 12&#45;&gt;14 -->\r\n",
       "<g id=\"edge14\" class=\"edge\"><title>12&#45;&gt;14</title>\r\n",
       "<path fill=\"none\" stroke=\"black\" d=\"M965.566,-88.9485C979.522,-79.2516 994.743,-68.6752 1008.56,-59.073\"/>\r\n",
       "<polygon fill=\"black\" stroke=\"black\" points=\"1010.75,-61.8172 1016.96,-53.2367 1006.75,-56.0687 1010.75,-61.8172\"/>\r\n",
       "</g>\r\n",
       "</g>\r\n",
       "</svg>\r\n"
      ],
      "text/plain": [
       "<graphviz.files.Source at 0x24881f66108>"
      ]
     },
     "execution_count": 12,
     "metadata": {},
     "output_type": "execute_result"
    }
   ],
   "source": [
    "export_graphviz(tree_reg,                              # 모델\n",
    "               out_file= \"regression.dot\",             # 저장경로 설정\n",
    "               feature_names=X_train.columns,                   # 변수명\n",
    "               rounded = True,                         # 시각화(둥근네모)\n",
    "               filled = True)                          # 시각화(도형채우기)\n",
    "Source.from_file(\"regression.dot\")"
   ]
  },
  {
   "cell_type": "markdown",
   "metadata": {},
   "source": [
    "**Cross validation**  \n",
    "\n",
    "- 파라미터 조정 & 샘플링 방식 변경  \n",
    "- 성능 별로  "
   ]
  },
  {
   "cell_type": "code",
   "execution_count": 13,
   "metadata": {},
   "outputs": [
    {
     "name": "stdout",
     "output_type": "stream",
     "text": [
      "=====KFold=====\n",
      "Scores : [4.05982928 3.87923825 3.51923216 3.70645787 3.79507228 3.74208049\n",
      " 4.02201001 3.99998843 3.78494707 3.79464265]\n",
      "Mean_rmse : 4.0\n",
      "std_rmse : 0.15655\n",
      "\n",
      "\n",
      "=====StratifiedKFold=====\n",
      "Scores : [3.76005063 3.73618522 4.26605397 3.79848926 3.57092759 3.79810131\n",
      " 3.78032787 3.66075359 3.90525961 3.5891629 ]\n",
      "Mean_rmse : 4.0\n",
      "std_rmse : 0.186775\n",
      "\n",
      "\n",
      "=====int=====\n",
      "Scores : [3.86960502 3.86039245 3.46305275 3.92941261 4.31557629 4.23666014\n",
      " 3.26850242 4.46365827 3.45973618 3.34699524]\n",
      "Mean_rmse : 4.0\n",
      "std_rmse : 0.404305\n",
      "\n",
      "\n"
     ]
    }
   ],
   "source": [
    "tree_reg = DecisionTreeRegressor(\n",
    "                                 max_features=7,\n",
    "                                 min_samples_leaf=5,\n",
    "                                 min_samples_split=10,\n",
    "                                 random_state=208\n",
    "                                )\n",
    "\n",
    "for cv_ in [kfolds, skfolds, 10]:\n",
    "    scores = cross_val_score(tree_reg, X_train, y_train, \n",
    "                             scoring = \"neg_mean_squared_error\",\n",
    "                             cv=cv_)\n",
    "    \n",
    "    print(\"=\"*5 + type(cv_).__name__ + \"=\"*5 )\n",
    "    rmse_scores = np.sqrt(-scores)\n",
    "    print(\"Scores :\", rmse_scores)\n",
    "    print(\"Mean_rmse : \" + str(round(np.mean(rmse_scores))))\n",
    "    print(\"std_rmse : \" + str(round(rmse_scores.std(),6)))\n",
    "    print(\"\\n\")"
   ]
  },
  {
   "cell_type": "markdown",
   "metadata": {},
   "source": [
    "  \n",
    "## 3-2. ensemble - RandomForest  "
   ]
  },
  {
   "cell_type": "markdown",
   "metadata": {},
   "source": [
    "- RandomForest는 배깅(복원추출방식)을 적용한 Tree의 앙상블 모델  \n",
    "- Tree Parameter 그대로 갖고 있고, 몇개의 Tree를 쓸건지(n_estimators) 지정  "
   ]
  },
  {
   "cell_type": "code",
   "execution_count": 15,
   "metadata": {},
   "outputs": [
    {
     "name": "stdout",
     "output_type": "stream",
     "text": [
      "=====int=====\n",
      "Scores : [3.42606352 3.12660157 2.8999335  3.065909   3.09069948 3.27700777\n",
      " 3.13008307 3.30502241 3.18308162 2.82462897]\n",
      "Mean_rmse : 3.0\n",
      "std_rmse : 0.17160329885446585\n",
      "\n",
      "\n"
     ]
    }
   ],
   "source": [
    "rf_reg = RandomForestRegressor(\n",
    "                                n_estimators=50,\n",
    "                                max_features=7,\n",
    "                                min_samples_leaf=5,\n",
    "                                min_samples_split=10,\n",
    "                                n_jobs=4,\n",
    "                                random_state=208\n",
    "                              )\n",
    "\n",
    "\n",
    "scores = cross_val_score(rf_reg, X_train, y_train, \n",
    "                         scoring = \"neg_mean_squared_error\",\n",
    "                         cv=kfolds)\n",
    "\n",
    "print(\"=\"*5 + type(cv_).__name__ + \"=\"*5 )\n",
    "rmse_scores = np.sqrt(-scores)\n",
    "print(\"Scores :\", rmse_scores)\n",
    "print(\"Mean_rmse : \" + str(round(np.mean(rmse_scores))))\n",
    "print(\"std_rmse :\", rmse_scores.std())\n",
    "print(\"\\n\")"
   ]
  },
  {
   "cell_type": "code",
   "execution_count": 23,
   "metadata": {},
   "outputs": [],
   "source": [
    "rf_reg.fit(X_train, y_train)\n",
    "sub_df = pd.read_csv('../data/submission_sample.csv')\n",
    "sub_df['18~20_ride'] = rf_reg.predict(X_test)\n",
    "sub_df.to_csv('rf_basic_1.csv', index = False)"
   ]
  },
  {
   "cell_type": "markdown",
   "metadata": {},
   "source": [
    "  \n",
    "\n",
    "## 3-3. ensemble - Xgboost  "
   ]
  },
  {
   "cell_type": "markdown",
   "metadata": {},
   "source": [
    "CART알고리즘을 활용하는 결국 RandomForest의 부류인 부스팅 알고리즘  "
   ]
  },
  {
   "cell_type": "markdown",
   "metadata": {},
   "source": [
    "- 이전 모델이 만든 잔여오차(residual error)에 새로운 모델을 학습(그래디언트 부스팅(Gradient Boosting)을 기반)\n",
    "- (배깅은 개별 모델들의 예측값을 마지막에 집계만 함)  \n",
    "- 1모델로 학습 -> 잔여오차로 2모델 학습 -> 잔여오차로 3모델 학습 ... (새로운 샘플이 들어왔을때 각 모델의 예측값의 sum)  "
   ]
  },
  {
   "cell_type": "markdown",
   "metadata": {},
   "source": [
    "*[파라미터 설명 참고](https://blog.naver.com/PostView.nhn?blogId=gustn3964&logNo=221431714122&from=search&redirect=Log&widgetTypeCall=true&directAccess=false)  "
   ]
  },
  {
   "cell_type": "code",
   "execution_count": 24,
   "metadata": {},
   "outputs": [],
   "source": [
    "st_sampling = StratifiedShuffleSplit(n_splits=1, test_size = 0.1, random_state= 42)"
   ]
  },
  {
   "cell_type": "code",
   "execution_count": 25,
   "metadata": {},
   "outputs": [],
   "source": [
    "X_train_t, X_val = train_test_split(X_train, test_size = 0.2, random_state=208)\n",
    "y_train_t, y_val = train_test_split(y_train, test_size = 0.2, random_state=208)"
   ]
  },
  {
   "cell_type": "code",
   "execution_count": 30,
   "metadata": {},
   "outputs": [
    {
     "name": "stdout",
     "output_type": "stream",
     "text": [
      "[16:35:54] WARNING: C:/Jenkins/workspace/xgboost-win64_release_0.90/src/objective/regression_obj.cu:152: reg:linear is now deprecated in favor of reg:squarederror.\n",
      "[0]\tvalidation_0-rmse:4.77293\n",
      "Will train until validation_0-rmse hasn't improved in 100 rounds.\n",
      "[1]\tvalidation_0-rmse:4.55417\n",
      "[2]\tvalidation_0-rmse:4.34637\n",
      "[3]\tvalidation_0-rmse:4.16387\n",
      "[4]\tvalidation_0-rmse:4.01638\n",
      "[5]\tvalidation_0-rmse:3.8933\n",
      "[6]\tvalidation_0-rmse:3.77621\n",
      "[7]\tvalidation_0-rmse:3.6645\n",
      "[8]\tvalidation_0-rmse:3.57037\n",
      "[9]\tvalidation_0-rmse:3.49774\n",
      "[10]\tvalidation_0-rmse:3.42933\n",
      "[11]\tvalidation_0-rmse:3.3694\n",
      "[12]\tvalidation_0-rmse:3.33157\n",
      "[13]\tvalidation_0-rmse:3.29737\n",
      "[14]\tvalidation_0-rmse:3.2623\n",
      "[15]\tvalidation_0-rmse:3.23265\n",
      "[16]\tvalidation_0-rmse:3.20905\n",
      "[17]\tvalidation_0-rmse:3.18137\n",
      "[18]\tvalidation_0-rmse:3.16354\n",
      "[19]\tvalidation_0-rmse:3.15061\n",
      "[20]\tvalidation_0-rmse:3.13233\n",
      "[21]\tvalidation_0-rmse:3.12256\n",
      "[22]\tvalidation_0-rmse:3.10839\n",
      "[23]\tvalidation_0-rmse:3.09571\n",
      "[24]\tvalidation_0-rmse:3.08567\n",
      "[25]\tvalidation_0-rmse:3.07766\n",
      "[26]\tvalidation_0-rmse:3.07029\n",
      "[27]\tvalidation_0-rmse:3.06269\n",
      "[28]\tvalidation_0-rmse:3.05248\n",
      "[29]\tvalidation_0-rmse:3.0443\n",
      "[30]\tvalidation_0-rmse:3.03757\n",
      "[31]\tvalidation_0-rmse:3.03554\n",
      "[32]\tvalidation_0-rmse:3.0281\n",
      "[33]\tvalidation_0-rmse:3.02416\n",
      "[34]\tvalidation_0-rmse:3.02199\n",
      "[35]\tvalidation_0-rmse:3.01978\n",
      "[36]\tvalidation_0-rmse:3.01413\n",
      "[37]\tvalidation_0-rmse:3.0103\n",
      "[38]\tvalidation_0-rmse:3.00702\n",
      "[39]\tvalidation_0-rmse:3.00513\n",
      "[40]\tvalidation_0-rmse:3.00229\n",
      "[41]\tvalidation_0-rmse:2.99999\n",
      "[42]\tvalidation_0-rmse:2.99595\n",
      "[43]\tvalidation_0-rmse:2.99322\n",
      "[44]\tvalidation_0-rmse:2.99321\n",
      "[45]\tvalidation_0-rmse:2.98581\n",
      "[46]\tvalidation_0-rmse:2.98444\n",
      "[47]\tvalidation_0-rmse:2.98129\n",
      "[48]\tvalidation_0-rmse:2.97586\n",
      "[49]\tvalidation_0-rmse:2.97338\n",
      "[50]\tvalidation_0-rmse:2.97057\n",
      "[51]\tvalidation_0-rmse:2.96848\n",
      "[52]\tvalidation_0-rmse:2.96224\n",
      "[53]\tvalidation_0-rmse:2.96029\n",
      "[54]\tvalidation_0-rmse:2.95868\n",
      "[55]\tvalidation_0-rmse:2.95772\n",
      "[56]\tvalidation_0-rmse:2.9578\n",
      "[57]\tvalidation_0-rmse:2.95341\n",
      "[58]\tvalidation_0-rmse:2.95299\n",
      "[59]\tvalidation_0-rmse:2.95294\n",
      "[60]\tvalidation_0-rmse:2.9482\n",
      "[61]\tvalidation_0-rmse:2.94808\n",
      "[62]\tvalidation_0-rmse:2.94767\n",
      "[63]\tvalidation_0-rmse:2.94547\n",
      "[64]\tvalidation_0-rmse:2.94326\n",
      "[65]\tvalidation_0-rmse:2.94192\n",
      "[66]\tvalidation_0-rmse:2.93867\n",
      "[67]\tvalidation_0-rmse:2.93714\n",
      "[68]\tvalidation_0-rmse:2.93602\n",
      "[69]\tvalidation_0-rmse:2.9352\n",
      "[70]\tvalidation_0-rmse:2.93445\n",
      "[71]\tvalidation_0-rmse:2.93231\n",
      "[72]\tvalidation_0-rmse:2.93216\n",
      "[73]\tvalidation_0-rmse:2.92791\n",
      "[74]\tvalidation_0-rmse:2.92679\n",
      "[75]\tvalidation_0-rmse:2.92613\n",
      "[76]\tvalidation_0-rmse:2.92572\n",
      "[77]\tvalidation_0-rmse:2.92501\n",
      "[78]\tvalidation_0-rmse:2.92173\n",
      "[79]\tvalidation_0-rmse:2.92076\n",
      "[80]\tvalidation_0-rmse:2.91964\n",
      "[81]\tvalidation_0-rmse:2.9198\n",
      "[82]\tvalidation_0-rmse:2.91662\n",
      "[83]\tvalidation_0-rmse:2.91606\n",
      "[84]\tvalidation_0-rmse:2.91368\n",
      "[85]\tvalidation_0-rmse:2.91286\n",
      "[86]\tvalidation_0-rmse:2.91285\n",
      "[87]\tvalidation_0-rmse:2.90964\n",
      "[88]\tvalidation_0-rmse:2.90901\n",
      "[89]\tvalidation_0-rmse:2.90882\n",
      "[90]\tvalidation_0-rmse:2.90897\n",
      "[91]\tvalidation_0-rmse:2.90534\n",
      "[92]\tvalidation_0-rmse:2.90519\n",
      "[93]\tvalidation_0-rmse:2.90298\n",
      "[94]\tvalidation_0-rmse:2.90296\n",
      "[95]\tvalidation_0-rmse:2.90202\n",
      "[96]\tvalidation_0-rmse:2.89934\n",
      "[97]\tvalidation_0-rmse:2.89866\n",
      "[98]\tvalidation_0-rmse:2.89757\n",
      "[99]\tvalidation_0-rmse:2.89681\n",
      "[100]\tvalidation_0-rmse:2.89605\n",
      "[101]\tvalidation_0-rmse:2.89579\n",
      "[102]\tvalidation_0-rmse:2.89507\n",
      "[103]\tvalidation_0-rmse:2.89436\n",
      "[104]\tvalidation_0-rmse:2.89465\n",
      "[105]\tvalidation_0-rmse:2.89443\n",
      "[106]\tvalidation_0-rmse:2.89416\n",
      "[107]\tvalidation_0-rmse:2.89388\n",
      "[108]\tvalidation_0-rmse:2.89394\n",
      "[109]\tvalidation_0-rmse:2.89369\n",
      "[110]\tvalidation_0-rmse:2.89041\n",
      "[111]\tvalidation_0-rmse:2.88979\n",
      "[112]\tvalidation_0-rmse:2.88937\n",
      "[113]\tvalidation_0-rmse:2.88903\n",
      "[114]\tvalidation_0-rmse:2.88846\n",
      "[115]\tvalidation_0-rmse:2.88777\n",
      "[116]\tvalidation_0-rmse:2.88822\n",
      "[117]\tvalidation_0-rmse:2.88809\n",
      "[118]\tvalidation_0-rmse:2.88766\n",
      "[119]\tvalidation_0-rmse:2.88432\n",
      "[120]\tvalidation_0-rmse:2.88412\n",
      "[121]\tvalidation_0-rmse:2.88464\n",
      "[122]\tvalidation_0-rmse:2.88424\n",
      "[123]\tvalidation_0-rmse:2.88508\n",
      "[124]\tvalidation_0-rmse:2.88469\n",
      "[125]\tvalidation_0-rmse:2.88396\n",
      "[126]\tvalidation_0-rmse:2.88369\n",
      "[127]\tvalidation_0-rmse:2.88378\n",
      "[128]\tvalidation_0-rmse:2.8838\n",
      "[129]\tvalidation_0-rmse:2.88299\n",
      "[130]\tvalidation_0-rmse:2.88027\n",
      "[131]\tvalidation_0-rmse:2.88022\n",
      "[132]\tvalidation_0-rmse:2.88038\n",
      "[133]\tvalidation_0-rmse:2.87957\n",
      "[134]\tvalidation_0-rmse:2.87938\n",
      "[135]\tvalidation_0-rmse:2.87879\n",
      "[136]\tvalidation_0-rmse:2.87877\n",
      "[137]\tvalidation_0-rmse:2.87864\n",
      "[138]\tvalidation_0-rmse:2.87863\n",
      "[139]\tvalidation_0-rmse:2.87774\n",
      "[140]\tvalidation_0-rmse:2.87714\n",
      "[141]\tvalidation_0-rmse:2.87628\n",
      "[142]\tvalidation_0-rmse:2.87636\n",
      "[143]\tvalidation_0-rmse:2.87603\n",
      "[144]\tvalidation_0-rmse:2.87614\n",
      "[145]\tvalidation_0-rmse:2.87572\n",
      "[146]\tvalidation_0-rmse:2.87571\n",
      "[147]\tvalidation_0-rmse:2.87591\n",
      "[148]\tvalidation_0-rmse:2.87577\n",
      "[149]\tvalidation_0-rmse:2.8759\n",
      "[150]\tvalidation_0-rmse:2.87591\n",
      "[151]\tvalidation_0-rmse:2.87609\n",
      "[152]\tvalidation_0-rmse:2.87551\n",
      "[153]\tvalidation_0-rmse:2.87447\n",
      "[154]\tvalidation_0-rmse:2.8733\n",
      "[155]\tvalidation_0-rmse:2.87286\n",
      "[156]\tvalidation_0-rmse:2.87273\n",
      "[157]\tvalidation_0-rmse:2.87259\n",
      "[158]\tvalidation_0-rmse:2.87169\n",
      "[159]\tvalidation_0-rmse:2.87135\n",
      "[160]\tvalidation_0-rmse:2.87188\n",
      "[161]\tvalidation_0-rmse:2.8716\n",
      "[162]\tvalidation_0-rmse:2.8716\n",
      "[163]\tvalidation_0-rmse:2.87164\n",
      "[164]\tvalidation_0-rmse:2.87158\n",
      "[165]\tvalidation_0-rmse:2.87107\n",
      "[166]\tvalidation_0-rmse:2.87071\n",
      "[167]\tvalidation_0-rmse:2.86974\n",
      "[168]\tvalidation_0-rmse:2.86903\n",
      "[169]\tvalidation_0-rmse:2.86898\n",
      "[170]\tvalidation_0-rmse:2.86915\n",
      "[171]\tvalidation_0-rmse:2.86895\n",
      "[172]\tvalidation_0-rmse:2.86887\n",
      "[173]\tvalidation_0-rmse:2.86886\n",
      "[174]\tvalidation_0-rmse:2.86876\n",
      "[175]\tvalidation_0-rmse:2.86847\n",
      "[176]\tvalidation_0-rmse:2.86849\n",
      "[177]\tvalidation_0-rmse:2.86758\n",
      "[178]\tvalidation_0-rmse:2.86724\n",
      "[179]\tvalidation_0-rmse:2.86776\n",
      "[180]\tvalidation_0-rmse:2.867\n",
      "[181]\tvalidation_0-rmse:2.86694\n",
      "[182]\tvalidation_0-rmse:2.86633\n",
      "[183]\tvalidation_0-rmse:2.86592\n",
      "[184]\tvalidation_0-rmse:2.86562\n",
      "[185]\tvalidation_0-rmse:2.86551\n",
      "[186]\tvalidation_0-rmse:2.86537\n",
      "[187]\tvalidation_0-rmse:2.86473\n",
      "[188]\tvalidation_0-rmse:2.86492\n",
      "[189]\tvalidation_0-rmse:2.86504\n",
      "[190]\tvalidation_0-rmse:2.86477\n",
      "[191]\tvalidation_0-rmse:2.8648\n",
      "[192]\tvalidation_0-rmse:2.86505\n",
      "[193]\tvalidation_0-rmse:2.86436\n",
      "[194]\tvalidation_0-rmse:2.86435\n",
      "[195]\tvalidation_0-rmse:2.86423\n",
      "[196]\tvalidation_0-rmse:2.86449\n",
      "[197]\tvalidation_0-rmse:2.86428\n",
      "[198]\tvalidation_0-rmse:2.86426\n",
      "[199]\tvalidation_0-rmse:2.86423\n",
      "[200]\tvalidation_0-rmse:2.86419\n",
      "[201]\tvalidation_0-rmse:2.86424\n",
      "[202]\tvalidation_0-rmse:2.86406\n",
      "[203]\tvalidation_0-rmse:2.86339\n",
      "[204]\tvalidation_0-rmse:2.86341\n",
      "[205]\tvalidation_0-rmse:2.86361\n",
      "[206]\tvalidation_0-rmse:2.86337\n",
      "[207]\tvalidation_0-rmse:2.86339\n",
      "[208]\tvalidation_0-rmse:2.86304\n",
      "[209]\tvalidation_0-rmse:2.86251\n",
      "[210]\tvalidation_0-rmse:2.86257\n",
      "[211]\tvalidation_0-rmse:2.86216\n",
      "[212]\tvalidation_0-rmse:2.86204\n",
      "[213]\tvalidation_0-rmse:2.85974\n",
      "[214]\tvalidation_0-rmse:2.85951\n",
      "[215]\tvalidation_0-rmse:2.85942\n",
      "[216]\tvalidation_0-rmse:2.85931\n",
      "[217]\tvalidation_0-rmse:2.85917\n",
      "[218]\tvalidation_0-rmse:2.85905\n",
      "[219]\tvalidation_0-rmse:2.85873\n",
      "[220]\tvalidation_0-rmse:2.85837\n",
      "[221]\tvalidation_0-rmse:2.85852\n",
      "[222]\tvalidation_0-rmse:2.85846\n",
      "[223]\tvalidation_0-rmse:2.85863\n",
      "[224]\tvalidation_0-rmse:2.8586\n",
      "[225]\tvalidation_0-rmse:2.8586\n",
      "[226]\tvalidation_0-rmse:2.85864\n",
      "[227]\tvalidation_0-rmse:2.85875\n",
      "[228]\tvalidation_0-rmse:2.8586\n",
      "[229]\tvalidation_0-rmse:2.85856\n",
      "[230]\tvalidation_0-rmse:2.85846\n",
      "[231]\tvalidation_0-rmse:2.85812\n",
      "[232]\tvalidation_0-rmse:2.85768\n",
      "[233]\tvalidation_0-rmse:2.85754\n",
      "[234]\tvalidation_0-rmse:2.85742\n",
      "[235]\tvalidation_0-rmse:2.85711\n",
      "[236]\tvalidation_0-rmse:2.85695\n",
      "[237]\tvalidation_0-rmse:2.85646\n",
      "[238]\tvalidation_0-rmse:2.85633\n",
      "[239]\tvalidation_0-rmse:2.85619\n",
      "[240]\tvalidation_0-rmse:2.85571\n",
      "[241]\tvalidation_0-rmse:2.85557\n",
      "[242]\tvalidation_0-rmse:2.85568\n",
      "[243]\tvalidation_0-rmse:2.85588\n",
      "[244]\tvalidation_0-rmse:2.85546\n",
      "[245]\tvalidation_0-rmse:2.85545\n",
      "[246]\tvalidation_0-rmse:2.8554\n",
      "[247]\tvalidation_0-rmse:2.85492\n",
      "[248]\tvalidation_0-rmse:2.85469\n",
      "[249]\tvalidation_0-rmse:2.85441\n"
     ]
    },
    {
     "data": {
      "text/plain": [
       "XGBRegressor(base_score=0.5, booster='gbtree', colsample_bylevel=0.9,\n",
       "             colsample_bynode=1, colsample_bytree=0.8, gamma=0,\n",
       "             importance_type='gain', learning_rate=0.1, max_delta_step=0,\n",
       "             max_depth=10, min_child_weight=3, missing=None, n_estimators=250,\n",
       "             n_jobs=1, nthread=4, objective='reg:linear', random_state=208,\n",
       "             reg_alpha=0, reg_lambda=1, scale_pos_weight=1, seed=None,\n",
       "             silent=None, subsample=1, verbosity=1)"
      ]
     },
     "execution_count": 30,
     "metadata": {},
     "output_type": "execute_result"
    }
   ],
   "source": [
    "xgb_reg=xgboost.XGBRegressor(booster='gbtree', \n",
    "                             colsample_bylevel=0.9, \n",
    "                             colsample_bytree=0.8, \n",
    "                             gamma=0, \n",
    "                             max_depth=10, \n",
    "                             min_child_weight=3, \n",
    "                             n_estimators=250, \n",
    "                             nthread=4, \n",
    "                             objective='reg:linear', \n",
    "                             random_state=208)\n",
    "\n",
    "xgb_reg.fit(X_train_t,y_train_t,\n",
    "            eval_set=[(X_val,y_val)],\n",
    "            eval_metric = 'rmse',\n",
    "            early_stopping_rounds=100)"
   ]
  },
  {
   "cell_type": "code",
   "execution_count": 34,
   "metadata": {},
   "outputs": [],
   "source": [
    "sub_df = pd.read_csv('../data/submission_sample.csv')\n",
    "sub_df['18~20_ride'] = xgb_reg.predict(X_test)\n",
    "sub_df.to_csv('xgb_test_1.csv', index = False)"
   ]
  },
  {
   "cell_type": "markdown",
   "metadata": {},
   "source": [
    "  \n",
    "  \n",
    "# 4. Parameter Tunning  "
   ]
  },
  {
   "cell_type": "markdown",
   "metadata": {},
   "source": [
    "## 4-1. gridSearch - RandomForest  "
   ]
  },
  {
   "cell_type": "code",
   "execution_count": null,
   "metadata": {},
   "outputs": [],
   "source": [
    "param_grid = [\n",
    "    {'n_estimators': [200, 300, 400],\n",
    "     'max_features': [5, 8],\n",
    "     'min_samples_leaf':[1],\n",
    "     'min_samples_split':[2]},  \n",
    "    {'bootstrap': [False], # 비복원추출\n",
    "     'n_estimators': [150, 200, 250],\n",
    "     'max_features': [5, 8],\n",
    "     'min_samples_leaf':[1],\n",
    "     'min_samples_split':[2]}\n",
    "  ]\n",
    "skfolds = StratifiedKFold(n_splits=10, random_state=208)\n",
    "rf_reg = RandomForestRegressor(random_state=208)\n",
    "grid_search = GridSearchCV(rf_reg,\n",
    "                           param_grid,\n",
    "                           cv = skfolds,\n",
    "                           n_jobs=4,\n",
    "                           scoring='neg_mean_squared_error',\n",
    "                           return_train_score=True,\n",
    "                           verbose=2)\n",
    "grid_search.fit(X_train, y_train)\n",
    "print(grid_search.best_params_)"
   ]
  }
 ],
 "metadata": {
  "kernelspec": {
   "display_name": "Python 3",
   "language": "python",
   "name": "python3"
  },
  "language_info": {
   "codemirror_mode": {
    "name": "ipython",
    "version": 3
   },
   "file_extension": ".py",
   "mimetype": "text/x-python",
   "name": "python",
   "nbconvert_exporter": "python",
   "pygments_lexer": "ipython3",
   "version": "3.7.4"
  }
 },
 "nbformat": 4,
 "nbformat_minor": 2
}
